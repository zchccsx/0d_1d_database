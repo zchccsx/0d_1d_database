{
 "cells": [
  {
   "cell_type": "markdown",
   "id": "715fb34a",
   "metadata": {},
   "source": [
    "### This jupyter notebook aims to briefly walk you through the key class Structure of python Package pymatgen\n",
    "### pymatgen version: Python environment: pymatgen_2022_9_21"
   ]
  },
  {
   "cell_type": "code",
   "execution_count": 1,
   "id": "3f5c1c99",
   "metadata": {},
   "outputs": [],
   "source": [
    "import os, json, functools\n",
    "\n",
    "from pymatgen.core import Structure\n",
    "\n",
    "import pandas as pd\n",
    "import numpy as np\n"
   ]
  },
  {
   "cell_type": "markdown",
   "id": "95d2ae4a",
   "metadata": {},
   "source": [
    "### Read a cif or POSCAR using pymatgen.Structure.from_file"
   ]
  },
  {
   "cell_type": "code",
   "execution_count": 2,
   "id": "53b24ee6",
   "metadata": {},
   "outputs": [
    {
     "name": "stderr",
     "output_type": "stream",
     "text": [
      "C:\\Users\\tyang\\.conda\\envs\\pymatgen_2022_9_21\\lib\\site-packages\\pymatgen\\io\\cif.py:1186: UserWarning: The default value of primitive was changed from True to False in https://github.com/materialsproject/pymatgen/pull/3419. CifParser now returns the cell in the CIF file as is. If you want the primitive cell, please set primitive=True explicitly.\n",
      "  warnings.warn(\n"
     ]
    },
    {
     "data": {
      "text/plain": [
       "Structure Summary\n",
       "Lattice\n",
       "    abc : 7.93430228 7.934302579999999 7.93430209\n",
       " angles : 59.99999758 59.99999635000001 60.000001360000006\n",
       " volume : 353.192293724721\n",
       "      A : 6.871307083059328 0.0 3.967151577733311\n",
       "      B : 2.2904353408209657 6.478330936286413 3.9671515802231956\n",
       "      C : 0.0 0.0 7.93430209\n",
       "    pbc : True True True\n",
       "PeriodicSite: Sb0 (Sb) (5.535, 1.687, 5.951) [0.7187, 0.2604, 0.2604]\n",
       "PeriodicSite: Sb1 (Sb) (6.776, 4.791, 11.74) [0.7396, 0.7396, 0.7396]\n",
       "PeriodicSite: Sb2 (Sb) (6.776, 4.791, 8.1) [0.7396, 0.7396, 0.2813]\n",
       "PeriodicSite: Sb3 (Sb) (5.726, 1.822, 9.918) [0.7396, 0.2813, 0.7396]\n",
       "PeriodicSite: Sb4 (Sb) (2.386, 1.687, 7.769) [0.2604, 0.2604, 0.7187]\n",
       "PeriodicSite: Sb5 (Sb) (3.436, 4.656, 5.951) [0.2604, 0.7187, 0.2604]\n",
       "PeriodicSite: Sb6 (Sb) (2.386, 1.687, 4.133) [0.2604, 0.2604, 0.2604]\n",
       "PeriodicSite: Sb7 (Sb) (3.627, 4.791, 9.918) [0.2813, 0.7396, 0.7396]\n",
       "PeriodicSite: O8 (O) (6.576, 2.847, 8.446) [0.8105, 0.4395, 0.4395]\n",
       "PeriodicSite: O9 (O) (4.286, 1.227, 4.479) [0.5605, 0.1895, 0.1895]\n",
       "PeriodicSite: O10 (O) (4.876, 5.251, 8.446) [0.4395, 0.8105, 0.4395]\n",
       "PeriodicSite: O11 (O) (4.026, 2.847, 9.918) [0.4395, 0.4395, 0.8105]\n",
       "PeriodicSite: O12 (O) (7.426, 5.251, 9.918) [0.8105, 0.8105, 0.4395]\n",
       "PeriodicSite: O13 (O) (6.576, 2.847, 11.39) [0.8105, 0.4395, 0.8105]\n",
       "PeriodicSite: O14 (O) (4.286, 1.227, 7.423) [0.5605, 0.1895, 0.5605]\n",
       "PeriodicSite: O15 (O) (2.586, 3.631, 4.479) [0.1895, 0.5605, 0.1895]\n",
       "PeriodicSite: O16 (O) (4.876, 5.251, 11.39) [0.4395, 0.8105, 0.8105]\n",
       "PeriodicSite: O17 (O) (1.736, 1.227, 5.951) [0.1895, 0.1895, 0.5605]\n",
       "PeriodicSite: O18 (O) (5.135, 3.631, 5.951) [0.5605, 0.5605, 0.1895]\n",
       "PeriodicSite: O19 (O) (2.586, 3.631, 7.423) [0.1895, 0.5605, 0.5605]"
      ]
     },
     "execution_count": 2,
     "metadata": {},
     "output_type": "execute_result"
    }
   ],
   "source": [
    "struct = Structure.from_file(\"test_data/mp-1999_0D_Sb2O3.cif\") #This function can also read POSCAR\n",
    "struct"
   ]
  },
  {
   "cell_type": "markdown",
   "id": "8ad223b7",
   "metadata": {},
   "source": [
    "### save Structure instance to a cif or POSCAR file."
   ]
  },
  {
   "cell_type": "code",
   "execution_count": 3,
   "id": "f1f4d3e8",
   "metadata": {},
   "outputs": [
    {
     "data": {
      "text/plain": [
       "\"# generated using pymatgen\\ndata_Sb2O3\\n_symmetry_space_group_name_H-M   'P 1'\\n_cell_length_a   7.93430228\\n_cell_length_b   7.93430258\\n_cell_length_c   7.93430209\\n_cell_angle_alpha   59.99999758\\n_cell_angle_beta   59.99999635\\n_cell_angle_gamma   60.00000136\\n_symmetry_Int_Tables_number   1\\n_chemical_formula_structural   Sb2O3\\n_chemical_formula_sum   'Sb8 O12'\\n_cell_volume   353.19229372\\n_cell_formula_units_Z   4\\nloop_\\n _symmetry_equiv_pos_site_id\\n _symmetry_equiv_pos_as_xyz\\n  1  'x, y, z'\\nloop_\\n _atom_site_type_symbol\\n _atom_site_label\\n _atom_site_symmetry_multiplicity\\n _atom_site_fract_x\\n _atom_site_fract_y\\n _atom_site_fract_z\\n _atom_site_occupancy\\n  Sb  Sb0  1  0.71868082  0.26043939  0.26043939  1.0\\n  Sb  Sb1  1  0.73956061  0.73956061  0.73956061  1.0\\n  Sb  Sb2  1  0.73956061  0.73956061  0.28131918  1.0\\n  Sb  Sb3  1  0.73956061  0.28131918  0.73956061  1.0\\n  Sb  Sb4  1  0.26043939  0.26043939  0.71868082  1.0\\n  Sb  Sb5  1  0.26043939  0.71868082  0.26043939  1.0\\n  Sb  Sb6  1  0.26043939  0.26043939  0.26043939  1.0\\n  Sb  Sb7  1  0.28131918  0.73956061  0.73956061  1.0\\n  O  O8  1  0.81053398  0.43946602  0.43946602  1.0\\n  O  O9  1  0.56053398  0.18946602  0.18946602  1.0\\n  O  O10  1  0.43946602  0.81053398  0.43946602  1.0\\n  O  O11  1  0.43946602  0.43946602  0.81053398  1.0\\n  O  O12  1  0.81053398  0.81053398  0.43946602  1.0\\n  O  O13  1  0.81053398  0.43946602  0.81053398  1.0\\n  O  O14  1  0.56053398  0.18946602  0.56053398  1.0\\n  O  O15  1  0.18946602  0.56053398  0.18946602  1.0\\n  O  O16  1  0.43946602  0.81053398  0.81053398  1.0\\n  O  O17  1  0.18946602  0.18946602  0.56053398  1.0\\n  O  O18  1  0.56053398  0.56053398  0.18946602  1.0\\n  O  O19  1  0.18946602  0.56053398  0.56053398  1.0\\n\""
      ]
     },
     "execution_count": 3,
     "metadata": {},
     "output_type": "execute_result"
    }
   ],
   "source": [
    "struct.to_file(\"test_data/mp-1999_0D_Sb2O3_saved.vasp\", fmt=\"poscar\")\n",
    "struct.to_file(\"test_data/mp-1999_0D_Sb2O3_saved.cif\", fmt=\"cif\")"
   ]
  },
  {
   "cell_type": "markdown",
   "id": "183a0878",
   "metadata": {},
   "source": [
    "## To write and read structure from a json file through python package pandas, the structure needs to convert to a dictionary"
   ]
  },
  {
   "cell_type": "code",
   "execution_count": 4,
   "id": "bb2f6e5d",
   "metadata": {},
   "outputs": [
    {
     "data": {
      "text/plain": [
       "{'@module': 'pymatgen.core.structure',\n",
       " '@class': 'Structure',\n",
       " 'charge': 0.0,\n",
       " 'lattice': {'matrix': [[6.871307083059328, 0.0, 3.967151577733311],\n",
       "   [2.2904353408209657, 6.478330936286413, 3.9671515802231956],\n",
       "   [0.0, 0.0, 7.93430209]],\n",
       "  'pbc': (True, True, True),\n",
       "  'a': 7.93430228,\n",
       "  'b': 7.934302579999999,\n",
       "  'c': 7.93430209,\n",
       "  'alpha': 59.99999758,\n",
       "  'beta': 59.99999635000001,\n",
       "  'gamma': 60.000001360000006,\n",
       "  'volume': 353.192293724721},\n",
       " 'properties': {},\n",
       " 'sites': [{'species': [{'element': 'Sb', 'occu': 1.0}],\n",
       "   'abc': [0.71868082, 0.26043939, 0.26043939],\n",
       "   'xyz': [5.53479619192274, 1.6872125572645624, 5.950723082935859],\n",
       "   'properties': {},\n",
       "   'label': 'Sb0'},\n",
       "  {'species': [{'element': 'Sb', 'occu': 1.0}],\n",
       "   'abc': [0.73956061, 0.73956061, 0.73956061],\n",
       "   'xyz': [6.775663815667788, 4.79111837902185, 11.735795377027914],\n",
       "   'properties': {},\n",
       "   'label': 'Sb1'},\n",
       "  {'species': [{'element': 'Sb', 'occu': 1.0}],\n",
       "   'abc': [0.73956061, 0.73956061, 0.28131918],\n",
       "   'xyz': [6.775663815667788, 4.79111837902185, 8.099969441254327],\n",
       "   'properties': {},\n",
       "   'label': 'Sb2'},\n",
       "  {'species': [{'element': 'Sb', 'occu': 1.0}],\n",
       "   'abc': [0.73956061, 0.28131918, 0.73956061],\n",
       "   'xyz': [5.726091449767451, 1.822478746764726, 9.917882163879678],\n",
       "   'properties': {},\n",
       "   'label': 'Sb3'},\n",
       "  {'species': [{'element': 'Sb', 'occu': 1.0}],\n",
       "   'abc': [0.26043939, 0.26043939, 0.71868082],\n",
       "   'xyz': [2.386078608212505, 1.6872125572645624, 7.7686358067021795],\n",
       "   'properties': {},\n",
       "   'label': 'Sb4'},\n",
       "  {'species': [{'element': 'Sb', 'occu': 1.0}],\n",
       "   'abc': [0.26043939, 0.71868082, 0.26043939],\n",
       "   'xyz': [3.435650974112842, 4.655852189521688, 5.950723084076828],\n",
       "   'properties': {},\n",
       "   'label': 'Sb5'},\n",
       "  {'species': [{'element': 'Sb', 'occu': 1.0}],\n",
       "   'abc': [0.26043939, 0.26043939, 0.26043939],\n",
       "   'xyz': [2.386078608212505, 1.6872125572645624, 4.1328098709285905],\n",
       "   'properties': {},\n",
       "   'label': 'Sb6'},\n",
       "  {'species': [{'element': 'Sb', 'occu': 1.0}],\n",
       "   'abc': [0.28131918, 0.73956061, 0.73956061],\n",
       "   'xyz': [3.6269462319575534, 4.79111837902185, 9.917882165020647],\n",
       "   'properties': {},\n",
       "   'label': 'Sb7'},\n",
       "  {'species': [{'element': 'O', 'occu': 1.0}],\n",
       "   'abc': [0.81053398, 0.43946602, 0.43946602],\n",
       "   'xyz': [6.575996381132201, 2.8470063128126637, 8.44579563423084],\n",
       "   'properties': {},\n",
       "   'label': 'O8'},\n",
       "  {'species': [{'element': 'O', 'occu': 1.0}],\n",
       "   'abc': [0.56053398, 0.18946602, 0.18946602],\n",
       "   'xyz': [4.285560775162128, 1.2274235787410603, 4.478644322241713],\n",
       "   'properties': {},\n",
       "   'label': 'O9'},\n",
       "  {'species': [{'element': 'O', 'occu': 1.0}],\n",
       "   'abc': [0.43946602, 0.81053398, 0.43946602],\n",
       "   'xyz': [4.876181648718166, 5.250907357545353, 8.445795635154758],\n",
       "   'properties': {},\n",
       "   'label': 'O10'},\n",
       "  {'species': [{'element': 'O', 'occu': 1.0}],\n",
       "   'abc': [0.43946602, 0.43946602, 0.81053398],\n",
       "   'xyz': [4.026274479287826, 2.8470063128126637, 9.917878081830596],\n",
       "   'properties': {},\n",
       "   'label': 'O11'},\n",
       "  {'species': [{'element': 'O', 'occu': 1.0}],\n",
       "   'abc': [0.81053398, 0.81053398, 0.43946602],\n",
       "   'xyz': [7.425903550562541, 5.250907357545353, 9.917878478115037],\n",
       "   'properties': {},\n",
       "   'label': 'O12'},\n",
       "  {'species': [{'element': 'O', 'occu': 1.0}],\n",
       "   'abc': [0.81053398, 0.43946602, 0.81053398],\n",
       "   'xyz': [6.575996381132201, 2.8470063128126637, 11.389960924790877],\n",
       "   'properties': {},\n",
       "   'label': 'O13'},\n",
       "  {'species': [{'element': 'O', 'occu': 1.0}],\n",
       "   'abc': [0.56053398, 0.18946602, 0.56053398],\n",
       "   'xyz': [4.285560775162128, 1.2274235787410603, 7.42280961280175],\n",
       "   'properties': {},\n",
       "   'label': 'O14'},\n",
       "  {'species': [{'element': 'O', 'occu': 1.0}],\n",
       "   'abc': [0.18946602, 0.56053398, 0.18946602],\n",
       "   'xyz': [2.585746042748093, 3.6313246234737497, 4.47864432316563],\n",
       "   'properties': {},\n",
       "   'label': 'O15'},\n",
       "  {'species': [{'element': 'O', 'occu': 1.0}],\n",
       "   'abc': [0.43946602, 0.81053398, 0.81053398],\n",
       "   'xyz': [4.876181648718166, 5.250907357545353, 11.389960925714794],\n",
       "   'properties': {},\n",
       "   'label': 'O16'},\n",
       "  {'species': [{'element': 'O', 'occu': 1.0}],\n",
       "   'abc': [0.18946602, 0.18946602, 0.56053398],\n",
       "   'xyz': [1.7358388733177523, 1.2274235787410603, 5.950726769841469],\n",
       "   'properties': {},\n",
       "   'label': 'O17'},\n",
       "  {'species': [{'element': 'O', 'occu': 1.0}],\n",
       "   'abc': [0.56053398, 0.56053398, 0.18946602],\n",
       "   'xyz': [5.135467944592468, 3.6313246234737497, 5.950727166125911],\n",
       "   'properties': {},\n",
       "   'label': 'O18'},\n",
       "  {'species': [{'element': 'O', 'occu': 1.0}],\n",
       "   'abc': [0.18946602, 0.56053398, 0.56053398],\n",
       "   'xyz': [2.585746042748093, 3.6313246234737497, 7.422809613725667],\n",
       "   'properties': {},\n",
       "   'label': 'O19'}]}"
      ]
     },
     "execution_count": 4,
     "metadata": {},
     "output_type": "execute_result"
    }
   ],
   "source": [
    "struct_dict = struct.as_dict()\n",
    "struct_dict"
   ]
  },
  {
   "cell_type": "code",
   "execution_count": 5,
   "id": "d1b0bb71",
   "metadata": {},
   "outputs": [
    {
     "data": {
      "text/plain": [
       "(pymatgen.core.structure.Structure, pymatgen.core.structure.Structure)"
      ]
     },
     "execution_count": 5,
     "metadata": {},
     "output_type": "execute_result"
    }
   ],
   "source": [
    "#read from the structure dict\n",
    "struct_from_dict = Structure.from_dict(struct_dict)\n",
    "type(struct_from_dict), type(struct)"
   ]
  },
  {
   "cell_type": "markdown",
   "id": "a1993766",
   "metadata": {},
   "source": [
    "### Key attributes of struct"
   ]
  },
  {
   "cell_type": "code",
   "execution_count": 6,
   "id": "a77931d4",
   "metadata": {},
   "outputs": [
    {
     "name": "stdout",
     "output_type": "stream",
     "text": [
      "lattice constants (7.93430228, 7.934302579999999, 7.93430209) 7.93430228 7.934302579999999 7.93430209\n",
      "lattice angles (59.99999758, 59.99999635000001, 60.000001360000006) 59.99999758 59.99999635000001 60.000001360000006\n"
     ]
    }
   ],
   "source": [
    "print(\"lattice constants\", struct.lattice.abc, struct.lattice.a, struct.lattice.b, struct.lattice.c)\n",
    "print(\"lattice angles\", struct.lattice.angles, struct.lattice.alpha, struct.lattice.beta, struct.lattice.gamma)"
   ]
  },
  {
   "cell_type": "code",
   "execution_count": 7,
   "id": "f1265cff",
   "metadata": {},
   "outputs": [
    {
     "data": {
      "text/plain": [
       "array([[6.87130708, 0.        , 3.96715158],\n",
       "       [2.29043534, 6.47833094, 3.96715158],\n",
       "       [0.        , 0.        , 7.93430209]])"
      ]
     },
     "execution_count": 7,
     "metadata": {},
     "output_type": "execute_result"
    }
   ],
   "source": [
    "#lattice vector a, b, c are the first, second and third row of the 3x3 matrix below\n",
    "struct.lattice.matrix"
   ]
  },
  {
   "cell_type": "code",
   "execution_count": 8,
   "id": "973057be",
   "metadata": {},
   "outputs": [
    {
     "data": {
      "text/plain": [
       "array([[0.71868082, 0.26043939, 0.26043939],\n",
       "       [0.73956061, 0.73956061, 0.73956061],\n",
       "       [0.73956061, 0.73956061, 0.28131918],\n",
       "       [0.73956061, 0.28131918, 0.73956061],\n",
       "       [0.26043939, 0.26043939, 0.71868082],\n",
       "       [0.26043939, 0.71868082, 0.26043939],\n",
       "       [0.26043939, 0.26043939, 0.26043939],\n",
       "       [0.28131918, 0.73956061, 0.73956061],\n",
       "       [0.81053398, 0.43946602, 0.43946602],\n",
       "       [0.56053398, 0.18946602, 0.18946602],\n",
       "       [0.43946602, 0.81053398, 0.43946602],\n",
       "       [0.43946602, 0.43946602, 0.81053398],\n",
       "       [0.81053398, 0.81053398, 0.43946602],\n",
       "       [0.81053398, 0.43946602, 0.81053398],\n",
       "       [0.56053398, 0.18946602, 0.56053398],\n",
       "       [0.18946602, 0.56053398, 0.18946602],\n",
       "       [0.43946602, 0.81053398, 0.81053398],\n",
       "       [0.18946602, 0.18946602, 0.56053398],\n",
       "       [0.56053398, 0.56053398, 0.18946602],\n",
       "       [0.18946602, 0.56053398, 0.56053398]])"
      ]
     },
     "execution_count": 8,
     "metadata": {},
     "output_type": "execute_result"
    }
   ],
   "source": [
    "#fractional coordinates are the atomic positions relative to the lattice vectors\n",
    "struct.frac_coords"
   ]
  },
  {
   "cell_type": "code",
   "execution_count": 9,
   "id": "89e86a35",
   "metadata": {},
   "outputs": [
    {
     "data": {
      "text/plain": [
       "array([[ 5.53479619,  1.68721256,  5.95072308],\n",
       "       [ 6.77566382,  4.79111838, 11.73579538],\n",
       "       [ 6.77566382,  4.79111838,  8.09996944],\n",
       "       [ 5.72609145,  1.82247875,  9.91788216],\n",
       "       [ 2.38607861,  1.68721256,  7.76863581],\n",
       "       [ 3.43565097,  4.65585219,  5.95072308],\n",
       "       [ 2.38607861,  1.68721256,  4.13280987],\n",
       "       [ 3.62694623,  4.79111838,  9.91788217],\n",
       "       [ 6.57599638,  2.84700631,  8.44579563],\n",
       "       [ 4.28556078,  1.22742358,  4.47864432],\n",
       "       [ 4.87618165,  5.25090736,  8.44579564],\n",
       "       [ 4.02627448,  2.84700631,  9.91787808],\n",
       "       [ 7.42590355,  5.25090736,  9.91787848],\n",
       "       [ 6.57599638,  2.84700631, 11.38996092],\n",
       "       [ 4.28556078,  1.22742358,  7.42280961],\n",
       "       [ 2.58574604,  3.63132462,  4.47864432],\n",
       "       [ 4.87618165,  5.25090736, 11.38996093],\n",
       "       [ 1.73583887,  1.22742358,  5.95072677],\n",
       "       [ 5.13546794,  3.63132462,  5.95072717],\n",
       "       [ 2.58574604,  3.63132462,  7.42280961]])"
      ]
     },
     "execution_count": 9,
     "metadata": {},
     "output_type": "execute_result"
    }
   ],
   "source": [
    "#cartesian coordinates\n",
    "struct.cart_coords"
   ]
  },
  {
   "cell_type": "code",
   "execution_count": 10,
   "id": "9cdac230",
   "metadata": {},
   "outputs": [
    {
     "name": "stdout",
     "output_type": "stream",
     "text": [
      "(20, 20)\n"
     ]
    },
    {
     "data": {
      "text/plain": [
       "array([[0.        , 3.97406247, 3.97405544, 3.97405517, 3.63582578,\n",
       "        3.63582617, 3.63582602, 5.38631083, 2.94187125, 1.98469416,\n",
       "        4.39988814, 4.39988811, 2.94186448, 2.9418642 , 1.98469992,\n",
       "        3.8266806 , 4.39989057, 3.82668036, 1.98470017, 3.82668359],\n",
       "       [3.97406247, 0.        , 3.63582594, 3.63582616, 3.97406276,\n",
       "        3.97406234, 5.38632159, 3.63582602, 3.82668749, 4.39989401,\n",
       "        3.82668743, 3.82668744, 1.98470136, 1.98470156, 2.94186544,\n",
       "        4.39989387, 1.98470146, 4.39989424, 2.94186511, 2.9418653 ],\n",
       "       [3.97405544, 3.63582594, 0.        , 3.63582592, 5.38631107,\n",
       "        3.97405528, 3.97406276, 3.63582578, 1.98470012, 2.94186453,\n",
       "        1.98470002, 3.82668333, 1.98469415, 3.82668039, 4.39988826,\n",
       "        2.9418644 , 3.82668033, 4.39989088, 2.94187124, 4.39988817],\n",
       "       [3.97405517, 3.63582616, 3.63582592, 0.        , 3.97405528,\n",
       "        5.38631079, 3.97406234, 3.63582617, 1.98469995, 2.94186418,\n",
       "        3.8266837 , 1.98470009, 3.82668054, 1.98469418, 2.94187123,\n",
       "        4.3998905 , 3.82668071, 2.94186433, 4.39988813, 4.39988808],\n",
       "       [3.63582578, 3.97406276, 5.38631107, 3.97405528, 0.        ,\n",
       "        3.63582592, 3.63582594, 3.97405544, 4.39988817, 3.82668033,\n",
       "        4.39988826, 2.94187124, 4.39989088, 2.9418644 , 1.98470002,\n",
       "        3.82668039, 2.94186453, 1.98469415, 3.82668333, 1.98470012],\n",
       "       [3.63582617, 3.97406234, 3.97405528, 5.38631079, 3.63582592,\n",
       "        0.        , 3.63582616, 3.97405517, 4.39988808, 3.82668071,\n",
       "        2.94187123, 4.39988813, 2.94186433, 4.3998905 , 3.8266837 ,\n",
       "        1.98469418, 2.94186418, 3.82668054, 1.98470009, 1.98469995],\n",
       "       [3.63582602, 5.38632159, 3.97406276, 3.97406234, 3.63582594,\n",
       "        3.63582616, 0.        , 3.97406247, 2.9418653 , 1.98470146,\n",
       "        2.94186544, 2.94186511, 4.39989424, 4.39989387, 3.82668743,\n",
       "        1.98470156, 4.39989401, 1.98470136, 3.82668744, 3.82668749],\n",
       "       [5.38631083, 3.63582602, 3.63582578, 3.63582617, 3.97405544,\n",
       "        3.97405517, 3.97406247, 0.        , 3.82668359, 4.39989057,\n",
       "        1.98469992, 1.98470017, 3.82668036, 3.8266806 , 4.39988814,\n",
       "        2.9418642 , 1.98469416, 2.94186448, 4.39988811, 2.94187125],\n",
       "       [2.94187125, 3.82668749, 1.98470012, 1.98469995, 4.39988817,\n",
       "        4.39988808, 2.9418653 , 3.82668359, 0.        , 4.85874766,\n",
       "        2.94416548, 2.94416516, 2.94416547, 2.94416529, 2.98590755,\n",
       "        2.98590743, 4.16367862, 2.98590762, 2.98590758, 4.19329863],\n",
       "       [1.98469416, 4.39989401, 2.94186453, 2.94186418, 3.82668033,\n",
       "        3.82668071, 1.98470146, 4.39989057, 4.85874766, 0.        ,\n",
       "        2.98590753, 2.9859075 , 2.98590762, 2.98590737, 2.94416529,\n",
       "        2.94416548, 4.1932984 , 2.94416516, 2.94416547, 4.16367862],\n",
       "       [4.39988814, 3.82668743, 1.98470002, 3.8266837 , 4.39988826,\n",
       "        2.94187123, 2.94186544, 1.98469992, 2.94416548, 2.98590753,\n",
       "        0.        , 2.94416527, 2.94416536, 4.16367862, 4.19329878,\n",
       "        4.85874766, 2.94416529, 2.98590769, 2.98590761, 2.98590755],\n",
       "       [4.39988811, 3.82668744, 3.82668333, 1.98470009, 2.94187124,\n",
       "        4.39988813, 2.94186511, 1.98470017, 2.94416516, 2.9859075 ,\n",
       "        2.94416527, 0.        , 4.16367843, 2.94416536, 2.98590761,\n",
       "        2.98590746, 2.94416547, 4.85874766, 4.19329843, 2.98590758],\n",
       "       [2.94186448, 1.98470136, 1.98469415, 3.82668054, 4.39989088,\n",
       "        2.94186433, 4.39989424, 3.82668036, 2.94416547, 2.98590762,\n",
       "        2.94416536, 4.16367843, 0.        , 2.94416527, 2.98590769,\n",
       "        2.98590756, 2.94416516, 4.19329872, 4.85874766, 2.98590762],\n",
       "       [2.9418642 , 1.98470156, 3.82668039, 1.98469418, 2.9418644 ,\n",
       "        4.3998905 , 4.39989387, 3.8266806 , 2.94416529, 2.98590737,\n",
       "        4.16367862, 2.94416536, 2.94416527, 0.        , 4.85874766,\n",
       "        4.19329833, 2.94416548, 2.98590756, 2.98590746, 2.98590743],\n",
       "       [1.98469992, 2.94186544, 4.39988826, 2.94187123, 1.98470002,\n",
       "        3.8266837 , 3.82668743, 4.39988814, 2.98590755, 2.94416529,\n",
       "        4.19329878, 2.98590761, 2.98590769, 4.85874766, 0.        ,\n",
       "        4.16367862, 2.98590753, 2.94416536, 2.94416527, 2.94416548],\n",
       "       [3.8266806 , 4.39989387, 2.9418644 , 4.3998905 , 3.82668039,\n",
       "        1.98469418, 1.98470156, 2.9418642 , 2.98590743, 2.94416548,\n",
       "        4.85874766, 2.98590746, 2.98590756, 4.19329833, 4.16367862,\n",
       "        0.        , 2.98590737, 2.94416527, 2.94416536, 2.94416529],\n",
       "       [4.39989057, 1.98470146, 3.82668033, 3.82668071, 2.94186453,\n",
       "        2.94186418, 4.39989401, 1.98469416, 4.16367862, 4.1932984 ,\n",
       "        2.94416529, 2.94416547, 2.94416516, 2.94416548, 2.98590753,\n",
       "        2.98590737, 0.        , 2.98590762, 2.9859075 , 4.85874766],\n",
       "       [3.82668036, 4.39989424, 4.39989088, 2.94186433, 1.98469415,\n",
       "        3.82668054, 1.98470136, 2.94186448, 2.98590762, 2.94416516,\n",
       "        2.98590769, 4.85874766, 4.19329872, 2.98590756, 2.94416536,\n",
       "        2.94416527, 2.98590762, 0.        , 4.16367843, 2.94416547],\n",
       "       [1.98470017, 2.94186511, 2.94187124, 4.39988813, 3.82668333,\n",
       "        1.98470009, 3.82668744, 4.39988811, 2.98590758, 2.94416547,\n",
       "        2.98590761, 4.19329843, 4.85874766, 2.98590746, 2.94416527,\n",
       "        2.94416536, 2.9859075 , 4.16367843, 0.        , 2.94416516],\n",
       "       [3.82668359, 2.9418653 , 4.39988817, 4.39988808, 1.98470012,\n",
       "        1.98469995, 3.82668749, 2.94187125, 4.19329863, 4.16367862,\n",
       "        2.98590755, 2.98590758, 2.98590762, 2.98590743, 2.94416548,\n",
       "        2.94416529, 4.85874766, 2.94416547, 2.94416516, 0.        ]])"
      ]
     },
     "execution_count": 10,
     "metadata": {},
     "output_type": "execute_result"
    }
   ],
   "source": [
    "#The distance matrix contains the distance between atoms. Note that the periodic boundary condition is taken into account while\n",
    "#calculating the distance between atoms, that is, the smallest inter-site distance.\n",
    "print(struct.distance_matrix.shape)\n",
    "struct.distance_matrix"
   ]
  },
  {
   "cell_type": "markdown",
   "id": "67fd79c9",
   "metadata": {},
   "source": [
    "### How to make a supercell"
   ]
  },
  {
   "cell_type": "code",
   "execution_count": 11,
   "id": "9f4925d9",
   "metadata": {},
   "outputs": [
    {
     "name": "stdout",
     "output_type": "stream",
     "text": [
      "Help on method make_supercell in module pymatgen.core.structure:\n",
      "\n",
      "make_supercell(scaling_matrix: 'ArrayLike', to_unit_cell: 'bool' = True, in_place: 'bool' = True) -> 'Structure' method of pymatgen.core.structure.Structure instance\n",
      "    Create a supercell.\n",
      "    \n",
      "    Args:\n",
      "        scaling_matrix (ArrayLike): A scaling matrix for transforming the lattice\n",
      "            vectors. Has to be all integers. Several options are possible:\n",
      "    \n",
      "            a. A full 3x3 scaling matrix defining the linear combination\n",
      "               the old lattice vectors. E.g., [[2,1,0],[0,3,0],[0,0,\n",
      "               1]] generates a new structure with lattice vectors a' =\n",
      "               2a + b, b' = 3b, c' = c where a, b, and c are the lattice\n",
      "               vectors of the original structure.\n",
      "            b. An sequence of three scaling factors. E.g., [2, 1, 1]\n",
      "               specifies that the supercell should have dimensions 2a x b x\n",
      "               c.\n",
      "            c. A number, which simply scales all lattice vectors by the\n",
      "               same factor.\n",
      "        to_unit_cell (bool): Whether or not to fold sites back into the unit cell\n",
      "            if they have fractional coords > 1. Defaults to True.\n",
      "        in_place (bool): Whether to perform the operation in-place or to return\n",
      "            a new Structure object. Defaults to True.\n",
      "    \n",
      "    Returns:\n",
      "        Structure: self if in_place is True else self.copy() after making supercell\n",
      "\n"
     ]
    }
   ],
   "source": [
    "help(struct.make_supercell)"
   ]
  },
  {
   "cell_type": "code",
   "execution_count": 12,
   "id": "5ee4125a",
   "metadata": {},
   "outputs": [],
   "source": [
    "#create a 2x3x4 supercell. Remember: set in_place=False to return the supercell object, instead of overwriting the original \n",
    "#unit cell structure\n",
    "sc_struct = struct.make_supercell(scaling_matrix=[2, 3, 4], in_place=False)"
   ]
  },
  {
   "cell_type": "code",
   "execution_count": 13,
   "id": "a1eb36d2",
   "metadata": {},
   "outputs": [
    {
     "data": {
      "text/plain": [
       "((7.93430228, 7.934302579999999, 7.93430209),\n",
       " (15.86860456, 23.80290774, 31.73720836))"
      ]
     },
     "execution_count": 13,
     "metadata": {},
     "output_type": "execute_result"
    }
   ],
   "source": [
    "struct.lattice.abc, sc_struct.lattice.abc"
   ]
  },
  {
   "cell_type": "code",
   "execution_count": null,
   "id": "d9b1ee17",
   "metadata": {},
   "outputs": [],
   "source": []
  },
  {
   "cell_type": "markdown",
   "id": "576d1eb2",
   "metadata": {},
   "source": [
    "### About our 0D and 1D materials datasets\n",
    "#### 0D materials dataset: prescreened_0D_candidates_w_tol_added.json & prescreened_0D_candidates_w_tol_added.xlsx\n",
    "#### 1D materials dataset: prescreened_1D_candidates_w_tol_added.json & prescreened_1D_candidates_w_tol_added.xlsx\n",
    "#### The two materials datasets are in both the json and xlsx form. The xlsx file is easy for you to take a look at the data using Microsoft Excel"
   ]
  },
  {
   "cell_type": "code",
   "execution_count": 25,
   "id": "8d382403",
   "metadata": {},
   "outputs": [
    {
     "data": {
      "text/plain": [
       "(3458, 1091)"
      ]
     },
     "execution_count": 25,
     "metadata": {},
     "output_type": "execute_result"
    }
   ],
   "source": [
    "ZeroD_df = pd.read_json(\"data/prescreened_0D_candidates_w_tol_added.json\")\n",
    "OneD_df  = pd.read_json(\"data/prescreened_1D_candidates_w_tol_added.json\")\n",
    "len(ZeroD_df), len(OneD_df)"
   ]
  },
  {
   "cell_type": "code",
   "execution_count": 15,
   "id": "235f8f8c",
   "metadata": {},
   "outputs": [
    {
     "data": {
      "text/html": [
       "<div>\n",
       "<style scoped>\n",
       "    .dataframe tbody tr th:only-of-type {\n",
       "        vertical-align: middle;\n",
       "    }\n",
       "\n",
       "    .dataframe tbody tr th {\n",
       "        vertical-align: top;\n",
       "    }\n",
       "\n",
       "    .dataframe thead th {\n",
       "        text-align: right;\n",
       "    }\n",
       "</style>\n",
       "<table border=\"1\" class=\"dataframe\">\n",
       "  <thead>\n",
       "    <tr style=\"text-align: right;\">\n",
       "      <th></th>\n",
       "      <th>material_id</th>\n",
       "      <th>task_ids</th>\n",
       "      <th>nsites</th>\n",
       "      <th>database_IDs</th>\n",
       "      <th>energy_above_hull</th>\n",
       "      <th>elements</th>\n",
       "      <th>formula_pretty</th>\n",
       "      <th>band_gap</th>\n",
       "      <th>structure</th>\n",
       "      <th>no_of_icsd_ids</th>\n",
       "      <th>...</th>\n",
       "      <th>0D_contained_rt_liquids</th>\n",
       "      <th>0D_contained_charged_ions</th>\n",
       "      <th>0D_min_inter_clt_dis</th>\n",
       "      <th>is_MP_initial_str_1D</th>\n",
       "      <th>1D_contained_rt_gases</th>\n",
       "      <th>1D_contained_rt_liquids</th>\n",
       "      <th>1D_contained_charged_ions</th>\n",
       "      <th>1D_min_inter_clt_dis</th>\n",
       "      <th>rep_tol</th>\n",
       "      <th>tol_equivalents</th>\n",
       "    </tr>\n",
       "  </thead>\n",
       "  <tbody>\n",
       "    <tr>\n",
       "      <th>mp-866807</th>\n",
       "      <td>mp-866807</td>\n",
       "      <td>[mp-867096, mp-867084, mp-1378742, mp-1777925,...</td>\n",
       "      <td>26</td>\n",
       "      <td>{}</td>\n",
       "      <td>0.020061</td>\n",
       "      <td>[F, H, O, Ti, Zn]</td>\n",
       "      <td>TiZnH12(OF)6</td>\n",
       "      <td>3.1431</td>\n",
       "      <td>{'@module': 'pymatgen.core.structure', '@class...</td>\n",
       "      <td>0</td>\n",
       "      <td>...</td>\n",
       "      <td></td>\n",
       "      <td>TiF6--</td>\n",
       "      <td>1.894249</td>\n",
       "      <td>False</td>\n",
       "      <td></td>\n",
       "      <td></td>\n",
       "      <td></td>\n",
       "      <td>100000000.0</td>\n",
       "      <td>0.15</td>\n",
       "      <td>{'0.15000000000000002': ['0.15000000000000002'...</td>\n",
       "    </tr>\n",
       "    <tr>\n",
       "      <th>mp-703297</th>\n",
       "      <td>mp-703297</td>\n",
       "      <td>[mp-1671109, mp-1774926, mp-703297, mp-1425530...</td>\n",
       "      <td>28</td>\n",
       "      <td>{'icsd': ['icsd-73623']}</td>\n",
       "      <td>0.041865</td>\n",
       "      <td>[H, N, O, S]</td>\n",
       "      <td>H7S(NO2)2</td>\n",
       "      <td>5.2916</td>\n",
       "      <td>{'@module': 'pymatgen.core.structure', '@class...</td>\n",
       "      <td>1</td>\n",
       "      <td>...</td>\n",
       "      <td></td>\n",
       "      <td>NH4+|NH4+|N2H6++|SO4--|SO4--</td>\n",
       "      <td>1.619409</td>\n",
       "      <td>False</td>\n",
       "      <td></td>\n",
       "      <td></td>\n",
       "      <td></td>\n",
       "      <td>100000000.0</td>\n",
       "      <td>0.10</td>\n",
       "      <td>{'0.1': ['0.1', '0.15000000000000002', '0.2', ...</td>\n",
       "    </tr>\n",
       "    <tr>\n",
       "      <th>mp-1204069</th>\n",
       "      <td>mp-1204069</td>\n",
       "      <td>[mp-1982857, mp-1844506, mp-1204069]</td>\n",
       "      <td>98</td>\n",
       "      <td>{'icsd': ['icsd-39217'], 'pf': ['pf-35262']}</td>\n",
       "      <td>0.047568</td>\n",
       "      <td>[H, Mg, N, O, V]</td>\n",
       "      <td>MgV5H20NO22</td>\n",
       "      <td>2.5010</td>\n",
       "      <td>{'@module': 'pymatgen.core.structure', '@class...</td>\n",
       "      <td>1</td>\n",
       "      <td>...</td>\n",
       "      <td>H2O|H2O|H2O|H2O</td>\n",
       "      <td>Mg(H2O)6++|Mg(H2O)6++|NH4+|NH4+</td>\n",
       "      <td>1.669548</td>\n",
       "      <td>False</td>\n",
       "      <td></td>\n",
       "      <td></td>\n",
       "      <td></td>\n",
       "      <td>100000000.0</td>\n",
       "      <td>0.05</td>\n",
       "      <td>{'0.05': ['0.05', '0.1', '0.15000000000000002'...</td>\n",
       "    </tr>\n",
       "    <tr>\n",
       "      <th>mp-569005</th>\n",
       "      <td>mp-569005</td>\n",
       "      <td>[mp-922246, mp-2754704, mp-907602, mp-921998, ...</td>\n",
       "      <td>30</td>\n",
       "      <td>{'icsd': ['icsd-35139']}</td>\n",
       "      <td>0.005116</td>\n",
       "      <td>[Cl, Mo]</td>\n",
       "      <td>MoCl4</td>\n",
       "      <td>0.0000</td>\n",
       "      <td>{'@module': 'pymatgen.core.structure', '@class...</td>\n",
       "      <td>1</td>\n",
       "      <td>...</td>\n",
       "      <td></td>\n",
       "      <td></td>\n",
       "      <td>3.660618</td>\n",
       "      <td>False</td>\n",
       "      <td></td>\n",
       "      <td></td>\n",
       "      <td></td>\n",
       "      <td>100000000.0</td>\n",
       "      <td>0.00</td>\n",
       "      <td>{'0.0': ['0.0', '0.05', '0.1', '0.150000000000...</td>\n",
       "    </tr>\n",
       "    <tr>\n",
       "      <th>mp-558853</th>\n",
       "      <td>mp-558853</td>\n",
       "      <td>[mp-558853, mp-1361432, mp-730825, mp-749809, ...</td>\n",
       "      <td>60</td>\n",
       "      <td>{'icsd': ['icsd-67817']}</td>\n",
       "      <td>0.060313</td>\n",
       "      <td>[As, C, F, N]</td>\n",
       "      <td>AsC3N3F8</td>\n",
       "      <td>3.9572</td>\n",
       "      <td>{'@module': 'pymatgen.core.structure', '@class...</td>\n",
       "      <td>1</td>\n",
       "      <td>...</td>\n",
       "      <td></td>\n",
       "      <td></td>\n",
       "      <td>2.922396</td>\n",
       "      <td>False</td>\n",
       "      <td></td>\n",
       "      <td></td>\n",
       "      <td></td>\n",
       "      <td>100000000.0</td>\n",
       "      <td>0.20</td>\n",
       "      <td>{'0.0': ['0.0', '0.05', '0.1', '0.150000000000...</td>\n",
       "    </tr>\n",
       "  </tbody>\n",
       "</table>\n",
       "<p>5 rows × 23 columns</p>\n",
       "</div>"
      ],
      "text/plain": [
       "           material_id                                           task_ids  \\\n",
       "mp-866807    mp-866807  [mp-867096, mp-867084, mp-1378742, mp-1777925,...   \n",
       "mp-703297    mp-703297  [mp-1671109, mp-1774926, mp-703297, mp-1425530...   \n",
       "mp-1204069  mp-1204069               [mp-1982857, mp-1844506, mp-1204069]   \n",
       "mp-569005    mp-569005  [mp-922246, mp-2754704, mp-907602, mp-921998, ...   \n",
       "mp-558853    mp-558853  [mp-558853, mp-1361432, mp-730825, mp-749809, ...   \n",
       "\n",
       "            nsites                                  database_IDs  \\\n",
       "mp-866807       26                                            {}   \n",
       "mp-703297       28                      {'icsd': ['icsd-73623']}   \n",
       "mp-1204069      98  {'icsd': ['icsd-39217'], 'pf': ['pf-35262']}   \n",
       "mp-569005       30                      {'icsd': ['icsd-35139']}   \n",
       "mp-558853       60                      {'icsd': ['icsd-67817']}   \n",
       "\n",
       "            energy_above_hull           elements formula_pretty  band_gap  \\\n",
       "mp-866807            0.020061  [F, H, O, Ti, Zn]   TiZnH12(OF)6    3.1431   \n",
       "mp-703297            0.041865       [H, N, O, S]      H7S(NO2)2    5.2916   \n",
       "mp-1204069           0.047568   [H, Mg, N, O, V]    MgV5H20NO22    2.5010   \n",
       "mp-569005            0.005116           [Cl, Mo]          MoCl4    0.0000   \n",
       "mp-558853            0.060313      [As, C, F, N]       AsC3N3F8    3.9572   \n",
       "\n",
       "                                                    structure  no_of_icsd_ids  \\\n",
       "mp-866807   {'@module': 'pymatgen.core.structure', '@class...               0   \n",
       "mp-703297   {'@module': 'pymatgen.core.structure', '@class...               1   \n",
       "mp-1204069  {'@module': 'pymatgen.core.structure', '@class...               1   \n",
       "mp-569005   {'@module': 'pymatgen.core.structure', '@class...               1   \n",
       "mp-558853   {'@module': 'pymatgen.core.structure', '@class...               1   \n",
       "\n",
       "            ...  0D_contained_rt_liquids        0D_contained_charged_ions  \\\n",
       "mp-866807   ...                                                    TiF6--   \n",
       "mp-703297   ...                              NH4+|NH4+|N2H6++|SO4--|SO4--   \n",
       "mp-1204069  ...          H2O|H2O|H2O|H2O  Mg(H2O)6++|Mg(H2O)6++|NH4+|NH4+   \n",
       "mp-569005   ...                                                             \n",
       "mp-558853   ...                                                             \n",
       "\n",
       "           0D_min_inter_clt_dis is_MP_initial_str_1D 1D_contained_rt_gases  \\\n",
       "mp-866807              1.894249                False                         \n",
       "mp-703297              1.619409                False                         \n",
       "mp-1204069             1.669548                False                         \n",
       "mp-569005              3.660618                False                         \n",
       "mp-558853              2.922396                False                         \n",
       "\n",
       "            1D_contained_rt_liquids  1D_contained_charged_ions  \\\n",
       "mp-866807                                                        \n",
       "mp-703297                                                        \n",
       "mp-1204069                                                       \n",
       "mp-569005                                                        \n",
       "mp-558853                                                        \n",
       "\n",
       "           1D_min_inter_clt_dis rep_tol  \\\n",
       "mp-866807           100000000.0    0.15   \n",
       "mp-703297           100000000.0    0.10   \n",
       "mp-1204069          100000000.0    0.05   \n",
       "mp-569005           100000000.0    0.00   \n",
       "mp-558853           100000000.0    0.20   \n",
       "\n",
       "                                              tol_equivalents  \n",
       "mp-866807   {'0.15000000000000002': ['0.15000000000000002'...  \n",
       "mp-703297   {'0.1': ['0.1', '0.15000000000000002', '0.2', ...  \n",
       "mp-1204069  {'0.05': ['0.05', '0.1', '0.15000000000000002'...  \n",
       "mp-569005   {'0.0': ['0.0', '0.05', '0.1', '0.150000000000...  \n",
       "mp-558853   {'0.0': ['0.0', '0.05', '0.1', '0.150000000000...  \n",
       "\n",
       "[5 rows x 23 columns]"
      ]
     },
     "execution_count": 15,
     "metadata": {},
     "output_type": "execute_result"
    }
   ],
   "source": [
    "ZeroD_df.head()\n",
    "#The row index is the respective materials project ID"
   ]
  },
  {
   "cell_type": "code",
   "execution_count": 16,
   "id": "49b1a83e",
   "metadata": {},
   "outputs": [
    {
     "data": {
      "text/html": [
       "<div>\n",
       "<style scoped>\n",
       "    .dataframe tbody tr th:only-of-type {\n",
       "        vertical-align: middle;\n",
       "    }\n",
       "\n",
       "    .dataframe tbody tr th {\n",
       "        vertical-align: top;\n",
       "    }\n",
       "\n",
       "    .dataframe thead th {\n",
       "        text-align: right;\n",
       "    }\n",
       "</style>\n",
       "<table border=\"1\" class=\"dataframe\">\n",
       "  <thead>\n",
       "    <tr style=\"text-align: right;\">\n",
       "      <th></th>\n",
       "      <th>material_id</th>\n",
       "      <th>task_ids</th>\n",
       "      <th>nsites</th>\n",
       "      <th>database_IDs</th>\n",
       "      <th>energy_above_hull</th>\n",
       "      <th>elements</th>\n",
       "      <th>formula_pretty</th>\n",
       "      <th>band_gap</th>\n",
       "      <th>structure</th>\n",
       "      <th>no_of_icsd_ids</th>\n",
       "      <th>...</th>\n",
       "      <th>0D_contained_rt_liquids</th>\n",
       "      <th>0D_contained_charged_ions</th>\n",
       "      <th>0D_min_inter_clt_dis</th>\n",
       "      <th>is_MP_initial_str_1D</th>\n",
       "      <th>1D_contained_rt_gases</th>\n",
       "      <th>1D_contained_rt_liquids</th>\n",
       "      <th>1D_contained_charged_ions</th>\n",
       "      <th>1D_min_inter_clt_dis</th>\n",
       "      <th>rep_tol</th>\n",
       "      <th>tol_equivalents</th>\n",
       "    </tr>\n",
       "  </thead>\n",
       "  <tbody>\n",
       "    <tr>\n",
       "      <th>mp-1210388</th>\n",
       "      <td>mp-1210388</td>\n",
       "      <td>[mp-1210388, mp-1328611, mp-1238742, mp-1886536]</td>\n",
       "      <td>72</td>\n",
       "      <td>{'pf': ['pf-2084']}</td>\n",
       "      <td>0.050451</td>\n",
       "      <td>[C, H, N, Na, O]</td>\n",
       "      <td>NaH8CN5O3</td>\n",
       "      <td>4.2591</td>\n",
       "      <td>{'@module': 'pymatgen.core.structure', '@class...</td>\n",
       "      <td>0</td>\n",
       "      <td>...</td>\n",
       "      <td></td>\n",
       "      <td></td>\n",
       "      <td>100000000.0</td>\n",
       "      <td>True</td>\n",
       "      <td></td>\n",
       "      <td></td>\n",
       "      <td></td>\n",
       "      <td>1.705668</td>\n",
       "      <td>0.10</td>\n",
       "      <td>{'0.1': ['0.1', '0.15000000000000002', '0.2', ...</td>\n",
       "    </tr>\n",
       "    <tr>\n",
       "      <th>mp-569707</th>\n",
       "      <td>mp-569707</td>\n",
       "      <td>[mp-671569, mp-2270420, mp-1426390, mp-2277086...</td>\n",
       "      <td>12</td>\n",
       "      <td>{'icsd': ['icsd-76649']}</td>\n",
       "      <td>0.009326</td>\n",
       "      <td>[Bi, Br, Se]</td>\n",
       "      <td>BiSeBr</td>\n",
       "      <td>1.6912</td>\n",
       "      <td>{'@module': 'pymatgen.core.structure', '@class...</td>\n",
       "      <td>1</td>\n",
       "      <td>...</td>\n",
       "      <td></td>\n",
       "      <td></td>\n",
       "      <td>100000000.0</td>\n",
       "      <td>True</td>\n",
       "      <td></td>\n",
       "      <td></td>\n",
       "      <td></td>\n",
       "      <td>3.618752</td>\n",
       "      <td>0.15</td>\n",
       "      <td>{'0.15000000000000002': ['0.15000000000000002'...</td>\n",
       "    </tr>\n",
       "    <tr>\n",
       "      <th>mp-571061</th>\n",
       "      <td>mp-571061</td>\n",
       "      <td>[mp-2745468, mp-846119, mp-717118, mp-2748932,...</td>\n",
       "      <td>64</td>\n",
       "      <td>{'icsd': ['icsd-240715']}</td>\n",
       "      <td>0.000000</td>\n",
       "      <td>[Cl, Nb, Se]</td>\n",
       "      <td>Nb3Se10Cl3</td>\n",
       "      <td>1.0269</td>\n",
       "      <td>{'@module': 'pymatgen.core.structure', '@class...</td>\n",
       "      <td>1</td>\n",
       "      <td>...</td>\n",
       "      <td></td>\n",
       "      <td></td>\n",
       "      <td>100000000.0</td>\n",
       "      <td>True</td>\n",
       "      <td></td>\n",
       "      <td></td>\n",
       "      <td></td>\n",
       "      <td>3.003531</td>\n",
       "      <td>0.00</td>\n",
       "      <td>{'0.0': ['0.0', '0.05', '0.1', '0.150000000000...</td>\n",
       "    </tr>\n",
       "    <tr>\n",
       "      <th>mp-734071</th>\n",
       "      <td>mp-734071</td>\n",
       "      <td>[mp-834413, mp-1205456, mp-814059, mp-805305, ...</td>\n",
       "      <td>34</td>\n",
       "      <td>{}</td>\n",
       "      <td>0.070435</td>\n",
       "      <td>[Cr, H, Li, O]</td>\n",
       "      <td>Li2Cr2H4O9</td>\n",
       "      <td>2.6469</td>\n",
       "      <td>{'@module': 'pymatgen.core.structure', '@class...</td>\n",
       "      <td>0</td>\n",
       "      <td>...</td>\n",
       "      <td></td>\n",
       "      <td></td>\n",
       "      <td>100000000.0</td>\n",
       "      <td>True</td>\n",
       "      <td></td>\n",
       "      <td></td>\n",
       "      <td></td>\n",
       "      <td>1.720991</td>\n",
       "      <td>0.10</td>\n",
       "      <td>{'0.1': ['0.1', '0.15000000000000002', '0.2', ...</td>\n",
       "    </tr>\n",
       "    <tr>\n",
       "      <th>mp-863746</th>\n",
       "      <td>mp-863746</td>\n",
       "      <td>[mp-2026235, mp-863746, mp-1838476, mp-864855,...</td>\n",
       "      <td>8</td>\n",
       "      <td>{}</td>\n",
       "      <td>0.000000</td>\n",
       "      <td>[Br, Tb]</td>\n",
       "      <td>TbBr3</td>\n",
       "      <td>2.8564</td>\n",
       "      <td>{'@module': 'pymatgen.core.structure', '@class...</td>\n",
       "      <td>0</td>\n",
       "      <td>...</td>\n",
       "      <td></td>\n",
       "      <td></td>\n",
       "      <td>100000000.0</td>\n",
       "      <td>True</td>\n",
       "      <td></td>\n",
       "      <td></td>\n",
       "      <td></td>\n",
       "      <td>4.107553</td>\n",
       "      <td>0.00</td>\n",
       "      <td>{'0.0': ['0.0', '0.05', '0.1', '0.150000000000...</td>\n",
       "    </tr>\n",
       "  </tbody>\n",
       "</table>\n",
       "<p>5 rows × 23 columns</p>\n",
       "</div>"
      ],
      "text/plain": [
       "           material_id                                           task_ids  \\\n",
       "mp-1210388  mp-1210388   [mp-1210388, mp-1328611, mp-1238742, mp-1886536]   \n",
       "mp-569707    mp-569707  [mp-671569, mp-2270420, mp-1426390, mp-2277086...   \n",
       "mp-571061    mp-571061  [mp-2745468, mp-846119, mp-717118, mp-2748932,...   \n",
       "mp-734071    mp-734071  [mp-834413, mp-1205456, mp-814059, mp-805305, ...   \n",
       "mp-863746    mp-863746  [mp-2026235, mp-863746, mp-1838476, mp-864855,...   \n",
       "\n",
       "            nsites               database_IDs  energy_above_hull  \\\n",
       "mp-1210388      72        {'pf': ['pf-2084']}           0.050451   \n",
       "mp-569707       12   {'icsd': ['icsd-76649']}           0.009326   \n",
       "mp-571061       64  {'icsd': ['icsd-240715']}           0.000000   \n",
       "mp-734071       34                         {}           0.070435   \n",
       "mp-863746        8                         {}           0.000000   \n",
       "\n",
       "                    elements formula_pretty  band_gap  \\\n",
       "mp-1210388  [C, H, N, Na, O]      NaH8CN5O3    4.2591   \n",
       "mp-569707       [Bi, Br, Se]         BiSeBr    1.6912   \n",
       "mp-571061       [Cl, Nb, Se]     Nb3Se10Cl3    1.0269   \n",
       "mp-734071     [Cr, H, Li, O]     Li2Cr2H4O9    2.6469   \n",
       "mp-863746           [Br, Tb]          TbBr3    2.8564   \n",
       "\n",
       "                                                    structure  no_of_icsd_ids  \\\n",
       "mp-1210388  {'@module': 'pymatgen.core.structure', '@class...               0   \n",
       "mp-569707   {'@module': 'pymatgen.core.structure', '@class...               1   \n",
       "mp-571061   {'@module': 'pymatgen.core.structure', '@class...               1   \n",
       "mp-734071   {'@module': 'pymatgen.core.structure', '@class...               0   \n",
       "mp-863746   {'@module': 'pymatgen.core.structure', '@class...               0   \n",
       "\n",
       "            ...  0D_contained_rt_liquids  0D_contained_charged_ions  \\\n",
       "mp-1210388  ...                                                       \n",
       "mp-569707   ...                                                       \n",
       "mp-571061   ...                                                       \n",
       "mp-734071   ...                                                       \n",
       "mp-863746   ...                                                       \n",
       "\n",
       "           0D_min_inter_clt_dis is_MP_initial_str_1D 1D_contained_rt_gases  \\\n",
       "mp-1210388          100000000.0                 True                         \n",
       "mp-569707           100000000.0                 True                         \n",
       "mp-571061           100000000.0                 True                         \n",
       "mp-734071           100000000.0                 True                         \n",
       "mp-863746           100000000.0                 True                         \n",
       "\n",
       "            1D_contained_rt_liquids  1D_contained_charged_ions  \\\n",
       "mp-1210388                                                       \n",
       "mp-569707                                                        \n",
       "mp-571061                                                        \n",
       "mp-734071                                                        \n",
       "mp-863746                                                        \n",
       "\n",
       "           1D_min_inter_clt_dis rep_tol  \\\n",
       "mp-1210388             1.705668    0.10   \n",
       "mp-569707              3.618752    0.15   \n",
       "mp-571061              3.003531    0.00   \n",
       "mp-734071              1.720991    0.10   \n",
       "mp-863746              4.107553    0.00   \n",
       "\n",
       "                                              tol_equivalents  \n",
       "mp-1210388  {'0.1': ['0.1', '0.15000000000000002', '0.2', ...  \n",
       "mp-569707   {'0.15000000000000002': ['0.15000000000000002'...  \n",
       "mp-571061   {'0.0': ['0.0', '0.05', '0.1', '0.150000000000...  \n",
       "mp-734071   {'0.1': ['0.1', '0.15000000000000002', '0.2', ...  \n",
       "mp-863746   {'0.0': ['0.0', '0.05', '0.1', '0.150000000000...  \n",
       "\n",
       "[5 rows x 23 columns]"
      ]
     },
     "execution_count": 16,
     "metadata": {},
     "output_type": "execute_result"
    }
   ],
   "source": [
    "OneD_df.head()\n",
    "#The row index is the respective materials project ID"
   ]
  },
  {
   "cell_type": "markdown",
   "id": "13283f8e",
   "metadata": {},
   "source": [
    "#### ZeroD_df and OneD_df have the same columns. \n",
    "#### You may use the data in the following two columns: (a) Column \"structure\" stores the pymatgen dictionary form of the atomic structure and (b) \"rep_tol\" is the selected bond tolerance for a material to tell which atoms of the structure are bound to one another.\n",
    "\n",
    "### How did we tell the dimensionality of a given material?\n",
    "#### *I have completed this. Just give you a rough idea how we did this so you can better understand what I call 0D and 1D materials and how we can figure out every constituent 0D cluster or 1D chain.*\n",
    "#### step 1: Calculate the distance between any atoms under the periodic boundary condition. Let's denote L(A, B) the distance between atom A and B\n",
    "#### step 2: Compare L(A, B) with the sum of the covalent radii of A and B up to a bond tolerance. The latter is denoted as [r(A)+r(B)]\\*rep_tol. r(A) and r(B) are fixed values and stored in file \"atomic_radius.json\". There is no clear boundary between bonding and non-bonding. That's why we need to introduce a bond tolerance. I have devised a method to define a representative bond tolerance (rep_tol) for each material. If L(A, B) < [r(A)+r(B)]\\*rep_tol, then atom A is bound to atom B. Otherwise, they are not bound.\n",
    "#### step 3: Partition all atoms of a material into a set of atomic clusters. Within a cluster, atoms are bound to each other.\n",
    "#### step 4: figure out the dimensionality of every cluster. If the atomic clusters are isolated from each other in all dimensions, the material is 0D. If the clusters are 1D chains, the material is 1D. If the atomic clusters are slabs/sheets, the material is 2D.\n",
    "\n",
    "#### For the initial structures of these 0D and 1D materials, I have prepared a VESTA file each. In these VESTE files, the bond length thresholds have been adjusted based on their respective rep_tol. So by dragging and dropping those VESTA files into VESTA, you will readily figure out what atoms constitute a 0D cluster or 1D chain."
   ]
  },
  {
   "cell_type": "code",
   "execution_count": 17,
   "id": "e6d163c7",
   "metadata": {},
   "outputs": [
    {
     "data": {
      "text/plain": [
       "Structure Summary\n",
       "Lattice\n",
       "    abc : 7.934302282144142 7.934302580570291 7.93430209\n",
       " angles : 59.9999975754691 59.99999635121014 60.00000136319022\n",
       " volume : 353.1922938452046\n",
       "      A : 6.87130709 0.0 3.96715157\n",
       "      B : 2.29043535 6.47833094 3.96715157\n",
       "      C : 1e-08 1e-08 7.93430209\n",
       "    pbc : True True True\n",
       "PeriodicSite: Sb (5.535, 1.687, 5.951) [0.7187, 0.2604, 0.2604]\n",
       "PeriodicSite: Sb (6.776, 4.791, 11.74) [0.7396, 0.7396, 0.7396]\n",
       "PeriodicSite: Sb (6.776, 4.791, 8.1) [0.7396, 0.7396, 0.2813]\n",
       "PeriodicSite: Sb (5.726, 1.822, 9.918) [0.7396, 0.2813, 0.7396]\n",
       "PeriodicSite: Sb (2.386, 1.687, 7.769) [0.2604, 0.2604, 0.7187]\n",
       "PeriodicSite: Sb (3.436, 4.656, 5.951) [0.2604, 0.7187, 0.2604]\n",
       "PeriodicSite: Sb (2.386, 1.687, 4.133) [0.2604, 0.2604, 0.2604]\n",
       "PeriodicSite: Sb (3.627, 4.791, 9.918) [0.2813, 0.7396, 0.7396]\n",
       "PeriodicSite: O (6.576, 2.847, 8.446) [0.8105, 0.4395, 0.4395]\n",
       "PeriodicSite: O (4.286, 1.227, 4.479) [0.5605, 0.1895, 0.1895]\n",
       "PeriodicSite: O (4.876, 5.251, 8.446) [0.4395, 0.8105, 0.4395]\n",
       "PeriodicSite: O (4.026, 2.847, 9.918) [0.4395, 0.4395, 0.8105]\n",
       "PeriodicSite: O (7.426, 5.251, 9.918) [0.8105, 0.8105, 0.4395]\n",
       "PeriodicSite: O (6.576, 2.847, 11.39) [0.8105, 0.4395, 0.8105]\n",
       "PeriodicSite: O (4.286, 1.227, 7.423) [0.5605, 0.1895, 0.5605]\n",
       "PeriodicSite: O (2.586, 3.631, 4.479) [0.1895, 0.5605, 0.1895]\n",
       "PeriodicSite: O (4.876, 5.251, 11.39) [0.4395, 0.8105, 0.8105]\n",
       "PeriodicSite: O (1.736, 1.227, 5.951) [0.1895, 0.1895, 0.5605]\n",
       "PeriodicSite: O (5.135, 3.631, 5.951) [0.5605, 0.5605, 0.1895]\n",
       "PeriodicSite: O (2.586, 3.631, 7.423) [0.1895, 0.5605, 0.5605]"
      ]
     },
     "execution_count": 17,
     "metadata": {},
     "output_type": "execute_result"
    }
   ],
   "source": [
    "#Read a structure from the above pandas dataframe\n",
    "struct = Structure.from_dict(ZeroD_df.loc[\"mp-1999\", \"structure\"])\n",
    "struct"
   ]
  },
  {
   "cell_type": "code",
   "execution_count": 19,
   "id": "e9e8bc65",
   "metadata": {},
   "outputs": [],
   "source": [
    "with open('data//atomic_radius.json','r') as f:\n",
    "    atomic_radius = json.load(f)\n",
    "    \n",
    "#is_bonded_matrix_I is the function that I used to determine bonding situation\n",
    "def is_bonded_matrix_I(distance_matrix, species_list, tol):\n",
    "    bonded_matrix = np.full(distance_matrix.shape, False, dtype=bool)\n",
    "    for site1_ind in range(distance_matrix.shape[0]):\n",
    "        for site2_ind in range(site1_ind, distance_matrix.shape[0]):\n",
    "            sp1 = species_list[site1_ind]\n",
    "            sp2 = species_list[site2_ind]\n",
    "            dist = distance_matrix[site1_ind, site2_ind]\n",
    "            if sp1 in atomic_radius and sp2 in atomic_radius:\n",
    "                bond_length = atomic_radius[sp1] + atomic_radius[sp2]\n",
    "                if dist < (1 + tol) * bond_length:\n",
    "                    bonded_matrix[site1_ind, site2_ind] = True\n",
    "                    bonded_matrix[site2_ind, site1_ind] = True\n",
    "                else:\n",
    "                    bonded_matrix[site1_ind, site2_ind] = False\n",
    "                    bonded_matrix[site2_ind, site1_ind] = False\n",
    "            else:\n",
    "                raise ValueError(\"No bond data for elements {} - {}\".format(sorted([sp1, sp2])))\n",
    "    return bonded_matrix\n",
    "\n",
    "#I just came up with is_bonded_matrix_II while preparing this tutorial. It does the same work as is_bonded_matrix_I \n",
    "#but should be faster. Not sure if there are bugs. Please help to check.\n",
    "def is_bonded_matrix_II(distance_matrix, species_list, tol):\n",
    "    atom_2_radius_arr = [atomic_radius[spec] for spec in species_list]\n",
    "    atom_2_radius_arr = np.array([atom_2_radius_arr] * distance_matrix.shape[0])\n",
    "    ref_covalent_radii_arr = (atom_2_radius_arr + atom_2_radius_arr.transpose()) * (tol + 1)\n",
    "    \n",
    "    bonded_matrix = np.full(distance_matrix.shape, False, dtype=bool)\n",
    "    bonded_matrix[distance_matrix < ref_covalent_radii_arr] = True\n",
    "    return bonded_matrix\n",
    "\n",
    "\n",
    "def cal_logical_or(boolean_matrix):\n",
    "    return functools.reduce(lambda arr_1, arr_2: np.logical_or(arr_1, arr_2), boolean_matrix)\n",
    "\n",
    "#This function is a bit hard to understand. But the function name well tells what it does. The output is the set of indice of the atoms\n",
    "#which are bound to site1\n",
    "def find_bonded_sites_of_a_site(site1_ind, bonded_matrix, ind_arr):\n",
    "    site2_ind_set = set(ind_arr[bonded_matrix[site1_ind]])\n",
    "    boolean_site2_ind_arr = cal_logical_or(bonded_matrix[list(site2_ind_set)])\n",
    "    while True:\n",
    "        site2_ind_set_I = set(ind_arr[boolean_site2_ind_arr])\n",
    "        diff_site2_ind_set = site2_ind_set_I.difference(site2_ind_set)\n",
    "        if diff_site2_ind_set:\n",
    "            site2_ind_set = site2_ind_set_I\n",
    "            new_boolean_site2_ind_arr = cal_logical_or(bonded_matrix[list(diff_site2_ind_set)])\n",
    "            boolean_site2_ind_arr = np.logical_or(boolean_site2_ind_arr, new_boolean_site2_ind_arr)\n",
    "        else:\n",
    "            break\n",
    "    \n",
    "    return site2_ind_set\n",
    "\n",
    "#The wrapped-up function to take care of the whole clustering process. \n",
    "#The output is a dictionary: value=a list of 0-based indice of the atoms within a cluster; key=the smallest 0-based atomic index of that cluster\n",
    "def clusterfy(structure,tol):\n",
    "    distance_matrix = structure.distance_matrix\n",
    "    bonded_matrix_I = is_bonded_matrix_I(distance_matrix, [str(spec) for spec in structure.species], tol)\n",
    "    bonded_matrix_II = is_bonded_matrix_II(distance_matrix, [str(spec) for spec in structure.species], tol)\n",
    "    assert np.alltrue(bonded_matrix_I==bonded_matrix_II), \"function is_bonded_matrix_I and bonded_matrix_II output different bonded_matrix for structure {}\".format(structure)\n",
    "    bonded_matrix = bonded_matrix_I\n",
    "    \n",
    "    clusters = {}\n",
    "    ind_arr = np.array(range(len(structure)))\n",
    "    counted_ind_list = []\n",
    "    \n",
    "    for site1_ind in range(len(structure)):\n",
    "        if site1_ind in counted_ind_list: continue\n",
    "        site2_ind_set = find_bonded_sites_of_a_site(site1_ind=site1_ind, bonded_matrix=bonded_matrix, ind_arr=ind_arr)\n",
    "        clusters[min(site2_ind_set)] = list(sorted(site2_ind_set))\n",
    "        counted_ind_list.extend(list(site2_ind_set))\n",
    "    sorted_counted_ind_list = sorted(counted_ind_list)\n",
    "    \n",
    "    assert sorted_counted_ind_list == sorted(ind_arr), \"Some sites are missing\\n Counted sites {}; total list {}\".format(sorted_counted_ind_list, ind_arr)\n",
    "    clusters = {int(min_site_ind):[int(all_site_ind) for all_site_ind in site_ind_list] for min_site_ind, site_ind_list in clusters.items()}\n",
    "    return clusters"
   ]
  },
  {
   "cell_type": "markdown",
   "id": "af43d27b",
   "metadata": {},
   "source": [
    "#### In what follows, I will show you how to obtain the 0-based indice of the atoms within a cluster"
   ]
  },
  {
   "cell_type": "code",
   "execution_count": 20,
   "id": "538401a9",
   "metadata": {},
   "outputs": [
    {
     "name": "stdout",
     "output_type": "stream",
     "text": [
      "rep_tol: 0.05\n"
     ]
    }
   ],
   "source": [
    "mp_id = \"mp-24113\"\n",
    "proxy_df = ZeroD_df\n",
    "\n",
    "#retrieve the structure from the dataframe\n",
    "struct = Structure.from_dict(proxy_df.loc[mp_id, \"structure\"])\n",
    "\n",
    "#retrieve the corresponding bond tolerance rep_tol from the dataframe\n",
    "rep_tol = proxy_df.loc[mp_id, \"rep_tol\"]\n",
    "print(\"rep_tol: {}\".format(rep_tol))"
   ]
  },
  {
   "cell_type": "code",
   "execution_count": 21,
   "id": "df861b32",
   "metadata": {},
   "outputs": [
    {
     "name": "stderr",
     "output_type": "stream",
     "text": [
      "C:\\Users\\tyang\\AppData\\Local\\Temp\\ipykernel_14480\\609604409.py:2: DeprecationWarning: `alltrue` is deprecated as of NumPy 1.25.0, and will be removed in NumPy 2.0. Please use `all` instead.\n",
      "  clusters = clusterfy(structure=struct, tol=rep_tol)\n"
     ]
    },
    {
     "data": {
      "text/plain": [
       "{0: [0, 11, 12, 13, 14, 15, 16], 1: [1, 3, 4, 5, 9], 2: [2, 6, 7, 8, 10]}"
      ]
     },
     "execution_count": 21,
     "metadata": {},
     "output_type": "execute_result"
    }
   ],
   "source": [
    "#You can just call this function to do everything for you.\n",
    "clusters = clusterfy(structure=struct, tol=rep_tol)\n",
    "clusters\n",
    "#In this case, given a bond tolerance of 0.05, the structure is partitioned into 3 clusters. The smallest 0-based atomic index\n",
    "#is 0, 1 and 2, respectively. The value contains all atomic indice within a cluster, inclusive of the smallest atomic index in that cluster"
   ]
  },
  {
   "cell_type": "code",
   "execution_count": 50,
   "id": "15408ab1",
   "metadata": {},
   "outputs": [
    {
     "data": {
      "text/plain": [
       "array([[0.      , 0.      , 0.      ],\n",
       "       [0.304971, 0.152485, 0.767268],\n",
       "       [0.847515, 0.152485, 0.767268],\n",
       "       [0.847515, 0.695029, 0.767268],\n",
       "       [0.152485, 0.847515, 0.232732],\n",
       "       [0.695029, 0.847515, 0.232732],\n",
       "       [0.152485, 0.304971, 0.232732]])"
      ]
     },
     "execution_count": 50,
     "metadata": {},
     "output_type": "execute_result"
    }
   ],
   "source": [
    "#Now you can use these grouped atomic indice to retrieve the corresponding atomic coordinates\n",
    "struct.frac_coords[clusters[0], :]"
   ]
  },
  {
   "cell_type": "code",
   "execution_count": 51,
   "id": "01598bde",
   "metadata": {
    "scrolled": true
   },
   "outputs": [
    {
     "data": {
      "text/plain": [
       "array([[ 3.143218  , -1.81474163,  0.74173954],\n",
       "       [ 3.143218  , -2.78017499,  2.14213779],\n",
       "       [ 2.30712516, -1.33201951,  2.14213779],\n",
       "       [ 3.97931084, -1.33201951,  2.14213779],\n",
       "       [ 3.143218  , -1.81474163,  1.7674584 ]])"
      ]
     },
     "execution_count": 51,
     "metadata": {},
     "output_type": "execute_result"
    }
   ],
   "source": [
    "struct.cart_coords[clusters[2], :]"
   ]
  },
  {
   "cell_type": "code",
   "execution_count": 24,
   "id": "6f5c8fe7",
   "metadata": {},
   "outputs": [],
   "source": [
    "#Save the whole structure and every cluster, separately, so that you can use VESTA to visualize\n",
    "struct.to_file(\"test_data/{}_entire.cif\".format(mp_id), fmt=\"cif\")\n",
    "\n",
    "for smallest_ind in clusters.keys():\n",
    "    sub_struct = Structure(lattice=struct.lattice.matrix, \n",
    "                           species=[struct.species[atom_ind] for atom_ind in clusters[smallest_ind]], \n",
    "                           coords=struct.frac_coords[clusters[smallest_ind]], \n",
    "                           coords_are_cartesian=False)\n",
    "    sub_struct.to_file(\"test_data/{}_cluster_{}.cif\".format(mp_id, smallest_ind), fmt=\"cif\")"
   ]
  }
 ],
 "metadata": {
  "kernelspec": {
   "display_name": "Python 3 (ipykernel)",
   "language": "python",
   "name": "python3"
  },
  "language_info": {
   "codemirror_mode": {
    "name": "ipython",
    "version": 3
   },
   "file_extension": ".py",
   "mimetype": "text/x-python",
   "name": "python",
   "nbconvert_exporter": "python",
   "pygments_lexer": "ipython3",
   "version": "3.9.13"
  }
 },
 "nbformat": 4,
 "nbformat_minor": 5
}
